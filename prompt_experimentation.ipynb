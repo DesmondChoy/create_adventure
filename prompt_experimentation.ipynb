{
  "cells": [
    {
      "cell_type": "markdown",
      "metadata": {
        "id": "view-in-github",
        "colab_type": "text"
      },
      "source": [
        "<a href=\"https://colab.research.google.com/github/DesmondChoy/create_adventure/blob/main/prompt_experimentation.ipynb\" target=\"_parent\"><img src=\"https://colab.research.google.com/assets/colab-badge.svg\" alt=\"Open In Colab\"/></a>"
      ]
    },
    {
      "cell_type": "markdown",
      "metadata": {
        "id": "fLRVInGW6fv5"
      },
      "source": [
        "# Imports"
      ]
    },
    {
      "cell_type": "code",
      "execution_count": 1,
      "metadata": {
        "id": "cNZ4ZxX-l8Yy"
      },
      "outputs": [],
      "source": [
        "!pip install claudette -qqq"
      ]
    },
    {
      "cell_type": "code",
      "execution_count": 10,
      "metadata": {
        "id": "_5o3Bg1cnnYB"
      },
      "outputs": [],
      "source": [
        "import os\n",
        "import random\n",
        "import json\n",
        "from claudette.core import Chat, Client, models\n",
        "from google.colab import userdata\n",
        "\n",
        "os.environ['ANTHROPIC_LOG'] = 'debug'\n",
        "os.environ['ANTHROPIC_API_KEY'] = userdata.get('ANTHROPIC_API_KEY')\n"
      ]
    },
    {
      "cell_type": "markdown",
      "metadata": {
        "id": "9ejtqnJe6ipB"
      },
      "source": [
        "# Purpose: Build a MVP"
      ]
    },
    {
      "cell_type": "markdown",
      "metadata": {
        "id": "0WpASYKe6kYm"
      },
      "source": [
        "This is a web-based \"Choose your own adventure\" RPG, but using LLMs and with an educational twist. Through the adventure, the reader is offered closed-ended player agency choices (strategic decisions, unique equipment, companion, etc).\n",
        "\n",
        "\n",
        "MVP: 5 pages.\n",
        "\n",
        "How the workflow looks like in my mind:\n",
        "\n",
        "1. Intialization\n",
        "- Pre-define data: educational trivia category, q&a pairs\n",
        "- Begin by asking what type of adventure to embark on: choose_topic\n",
        "- choose_topic = ['Magical Realms', 'Animal Adventures', 'Mystery and Detectives', 'Inventions and Gadgets']\n",
        "- educational_trivia = random.choice([\"Singapore history\", \"Farm animals\", \"Human body\"])\n",
        "\n",
        "2. Page I & II\n",
        "- A function start_adventure()  takes {choose_topic}  and {educational_trivia} as arguments\n",
        "- start_adventure() produces Page I and II\n",
        "- Page I sets the context and character development, with no choices. The plot/narrative must be related to {educational_trivia}\n",
        "- Page II concludes with a Player agency choice. Answer is saved as user_choice\n",
        "\n",
        "3. Page III\n",
        "- A function continue_adventure() takes two arguments, {story_so_far} and {user_choice}\n",
        "- continue_adventure() continues to build the plot and is shaped by {user_choice}\n",
        "- Page III concludes with a trivia question related to {educational_trivia}. Answer is saved as user_answer\n",
        "\n",
        "4. Page IV\n",
        "- continue_adventure() is used again but it will need to take an additional argument {user_answer} together with {story_so_far}\n",
        "- continue_adventure() continues to build the plot and is shaped by whether {user_answer} was correct or incorrect. If incorrect, there should be a lesson educating the reader on the correct answer.\n",
        "- Page IV concludes with a Player agency choice. Answer is saved as user_choice\n",
        "\n",
        "5. Page V\n",
        "- A function concludes adventure() takes two arguments, {story_so_far} and {user_choice}\n",
        "- concludes adventure() reveals the plot and is shaped by {user_choice}. The plot is also related to {educational_trivia}.\n",
        "- There will be a happy ending but there is also a hint of more adventures to come.\n",
        "\n",
        "Some comments\n",
        "- Persistence: The story state between pages is saved as string variables for now. I'll think of a better solution later down the road.\n",
        "\n",
        "- Modularity: The focus is on shipping a MVP and refactoring will be done later. I'm open to simple, intuitive suggestions on how the functions should like like e.g. class structures\n",
        "\n",
        "- Story generation: Claude Sonnet 3.5 will be used to generate the narrative dynamically.\n",
        "\n"
      ]
    },
    {
      "cell_type": "markdown",
      "metadata": {
        "id": "qlIUlDWa-nvK"
      },
      "source": [
        "To be included later:\n",
        "- Difficulty level (easy/medium/hard) - this will define maths qns.\n",
        "- Rendered images\n",
        "\n"
      ]
    },
    {
      "cell_type": "markdown",
      "metadata": {
        "id": "nTpecRVS6YEN"
      },
      "source": [
        "# Intialization"
      ]
    },
    {
      "cell_type": "code",
      "source": [
        "import random\n",
        "from claudette.core import Chat, Client, models\n",
        "from IPython.display import display, HTML\n",
        "\n",
        "# Initialize the Claude client\n",
        "client = Client(models[-1])\n",
        "chat = Chat(cli=client)\n",
        "\n",
        "# Pre-define adventure topics and trivia questions (same as before)\n",
        "choose_topic = ['Magical Realms', 'Animal Adventures', 'Mystery and Detectives', 'Inventions and Gadgets']\n",
        "trivia_topic = random.choice([\"Singapore history\", \"Farm animals\", \"Human body\"])\n",
        "\n",
        "trivia_topic_q&a = {\n",
        "    \"Singapore history\": [\n",
        "        {\n",
        "            \"question\": \"In which year did Singapore gain independence?\",\n",
        "            \"choices\": {\"A\": \"1965\", \"B\": \"1955\", \"C\": \"1975\"},\n",
        "            \"correct\": \"A\"\n",
        "        },\n",
        "        {\n",
        "            \"question\": \"Who is considered the founding father of modern Singapore?\",\n",
        "            \"choices\": {\"A\": \"Goh Chok Tong\", \"B\": \"Lee Kuan Yew\", \"C\": \"Tony Tan\"},\n",
        "            \"correct\": \"B\"\n",
        "        }\n",
        "    ],\n",
        "    \"Farm animals\": [\n",
        "        {\n",
        "            \"question\": \"Which farm animal provides us with wool?\",\n",
        "            \"choices\": {\"A\": \"Cow\", \"B\": \"Chicken\", \"C\": \"Sheep\"},\n",
        "            \"correct\": \"C\"\n",
        "        },\n",
        "        {\n",
        "            \"question\": \"What do we call a baby cow?\",\n",
        "            \"choices\": {\"A\": \"Kitten\", \"B\": \"Calf\", \"C\": \"Puppy\"},\n",
        "            \"correct\": \"B\"\n",
        "        }\n",
        "    ],\n",
        "    \"Human body\": [\n",
        "        {\n",
        "            \"question\": \"How many chambers does the human heart have?\",\n",
        "            \"choices\": {\"A\": \"Two\", \"B\": \"Three\", \"C\": \"Four\"},\n",
        "            \"correct\": \"C\"\n",
        "        },\n",
        "        {\n",
        "            \"question\": \"What is the largest organ in the human body?\",\n",
        "            \"choices\": {\"A\": \"Liver\", \"B\": \"Brain\", \"C\": \"Skin\"},\n",
        "            \"correct\": \"C\"\n",
        "        }\n",
        "    ]\n",
        "}"
      ],
      "metadata": {
        "id": "7lX27gLZLukd"
      },
      "execution_count": 19,
      "outputs": []
    },
    {
      "cell_type": "code",
      "source": [
        "trivia_questions"
      ],
      "metadata": {
        "colab": {
          "base_uri": "https://localhost:8080/"
        },
        "id": "CVBlgOi5Lwua",
        "outputId": "a2eaad45-db7c-4973-e0c2-abcd30757289"
      },
      "execution_count": 20,
      "outputs": [
        {
          "output_type": "execute_result",
          "data": {
            "text/plain": [
              "{'Singapore history': [{'question': 'In which year did Singapore gain independence?',\n",
              "   'choices': {'A': '1965', 'B': '1955', 'C': '1975'},\n",
              "   'correct': 'A'},\n",
              "  {'question': 'Who is considered the founding father of modern Singapore?',\n",
              "   'choices': {'A': 'Goh Chok Tong', 'B': 'Lee Kuan Yew', 'C': 'Tony Tan'},\n",
              "   'correct': 'B'}],\n",
              " 'Farm animals': [{'question': 'Which farm animal provides us with wool?',\n",
              "   'choices': {'A': 'Cow', 'B': 'Chicken', 'C': 'Sheep'},\n",
              "   'correct': 'C'},\n",
              "  {'question': 'What do we call a baby cow?',\n",
              "   'choices': {'A': 'Kitten', 'B': 'Calf', 'C': 'Puppy'},\n",
              "   'correct': 'B'}],\n",
              " 'Human body': [{'question': 'How many chambers does the human heart have?',\n",
              "   'choices': {'A': 'Two', 'B': 'Three', 'C': 'Four'},\n",
              "   'correct': 'C'},\n",
              "  {'question': 'What is the largest organ in the human body?',\n",
              "   'choices': {'A': 'Liver', 'B': 'Brain', 'C': 'Skin'},\n",
              "   'correct': 'C'}]}"
            ]
          },
          "metadata": {},
          "execution_count": 20
        }
      ]
    },
    {
      "cell_type": "code",
      "source": [
        "import pandas as pd\n",
        "\n",
        "data = {\n",
        "    'Topic': ['Singapore History'] * 5 + ['Farm Animals'] * 5 + ['Human Body'] * 5,\n",
        "    'Question': [\n",
        "        'What animal is the symbol of Singapore?',\n",
        "        'What color is the top half of Singapore\\'s flag?',\n",
        "        'Who is known as the founder of modern Singapore?',\n",
        "        'What year did Singapore become independent?',\n",
        "        'What is the name of Singapore\\'s famous airport?',\n",
        "        'Which farm animal gives us milk?',\n",
        "        'What do we call a baby sheep?',\n",
        "        'Which farm animal says \"oink oink\"?',\n",
        "        'What farm animal lays eggs?',\n",
        "        'Which farm animal has a woolly coat?',\n",
        "        'How many fingers do you have on one hand?',\n",
        "        'What organ pumps blood around your body?',\n",
        "        'What do you use to smell things?',\n",
        "        'How many legs does a person have?',\n",
        "        'What covers the outside of your body?'\n",
        "    ],\n",
        "    'Choice1': ['Lion', 'Red', 'Stamford Raffles', '1965', 'Changi', 'Cow', 'Lamb', 'Pig', 'Chicken', 'Sheep', '5', 'Heart', 'Nose', '2', 'Skin'],\n",
        "    'Choice2': ['Tiger', 'Blue', 'Lee Kuan Yew', '1955', 'Sentosa', 'Chicken', 'Calf', 'Horse', 'Cow', 'Donkey', '4', 'Lungs', 'Ears', '3', 'Hair'],\n",
        "    'Choice3': ['Elephant', 'White', 'Yusof Ishak', '1975', 'Marina Bay', 'Pig', 'Piglet', 'Goat', 'Sheep', 'Rooster', '6', 'Brain', 'Eyes', '4', 'Clothes'],\n",
        "    'Correct Answer': ['Lion', 'Red', 'Stamford Raffles', '1965', 'Changi', 'Cow', 'Lamb', 'Pig', 'Chicken', 'Sheep', '5', 'Heart', 'Nose', '2', 'Skin']\n",
        "}\n",
        "\n",
        "df = pd.DataFrame(data)\n",
        "print(df)\n"
      ],
      "metadata": {
        "colab": {
          "base_uri": "https://localhost:8080/"
        },
        "id": "uTcjEsqcNmKY",
        "outputId": "03a43cdb-e634-4751-c9f6-e2af0d009f08"
      },
      "execution_count": 21,
      "outputs": [
        {
          "output_type": "stream",
          "name": "stdout",
          "text": [
            "                Topic                                          Question  \\\n",
            "0   Singapore History           What animal is the symbol of Singapore?   \n",
            "1   Singapore History   What color is the top half of Singapore's flag?   \n",
            "2   Singapore History  Who is known as the founder of modern Singapore?   \n",
            "3   Singapore History       What year did Singapore become independent?   \n",
            "4   Singapore History   What is the name of Singapore's famous airport?   \n",
            "5        Farm Animals                  Which farm animal gives us milk?   \n",
            "6        Farm Animals                     What do we call a baby sheep?   \n",
            "7        Farm Animals               Which farm animal says \"oink oink\"?   \n",
            "8        Farm Animals                       What farm animal lays eggs?   \n",
            "9        Farm Animals              Which farm animal has a woolly coat?   \n",
            "10         Human Body         How many fingers do you have on one hand?   \n",
            "11         Human Body          What organ pumps blood around your body?   \n",
            "12         Human Body                  What do you use to smell things?   \n",
            "13         Human Body                 How many legs does a person have?   \n",
            "14         Human Body             What covers the outside of your body?   \n",
            "\n",
            "             Choice1       Choice2      Choice3    Correct Answer  \n",
            "0               Lion         Tiger     Elephant              Lion  \n",
            "1                Red          Blue        White               Red  \n",
            "2   Stamford Raffles  Lee Kuan Yew  Yusof Ishak  Stamford Raffles  \n",
            "3               1965          1955         1975              1965  \n",
            "4             Changi       Sentosa   Marina Bay            Changi  \n",
            "5                Cow       Chicken          Pig               Cow  \n",
            "6               Lamb          Calf       Piglet              Lamb  \n",
            "7                Pig         Horse         Goat               Pig  \n",
            "8            Chicken           Cow        Sheep           Chicken  \n",
            "9              Sheep        Donkey      Rooster             Sheep  \n",
            "10                 5             4            6                 5  \n",
            "11             Heart         Lungs        Brain             Heart  \n",
            "12              Nose          Ears         Eyes              Nose  \n",
            "13                 2             3            4                 2  \n",
            "14              Skin          Hair      Clothes              Skin  \n"
          ]
        }
      ]
    }
  ],
  "metadata": {
    "colab": {
      "provenance": [],
      "authorship_tag": "ABX9TyP+w8MIuCLnKdYc16frnrAu",
      "include_colab_link": true
    },
    "kernelspec": {
      "display_name": "Python 3",
      "name": "python3"
    },
    "language_info": {
      "name": "python"
    }
  },
  "nbformat": 4,
  "nbformat_minor": 0
}