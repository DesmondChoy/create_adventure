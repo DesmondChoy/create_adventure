{
  "nbformat": 4,
  "nbformat_minor": 0,
  "metadata": {
    "colab": {
      "provenance": [],
      "authorship_tag": "ABX9TyOUJKXLdfjqFR5elWsoeSZw",
      "include_colab_link": true
    },
    "kernelspec": {
      "name": "python3",
      "display_name": "Python 3"
    },
    "language_info": {
      "name": "python"
    }
  },
  "cells": [
    {
      "cell_type": "markdown",
      "metadata": {
        "id": "view-in-github",
        "colab_type": "text"
      },
      "source": [
        "<a href=\"https://colab.research.google.com/github/DesmondChoy/create_adventure/blob/main/prompt_experimentation.ipynb\" target=\"_parent\"><img src=\"https://colab.research.google.com/assets/colab-badge.svg\" alt=\"Open In Colab\"/></a>"
      ]
    },
    {
      "cell_type": "markdown",
      "source": [
        "# Imports"
      ],
      "metadata": {
        "id": "fLRVInGW6fv5"
      }
    },
    {
      "cell_type": "code",
      "execution_count": 1,
      "metadata": {
        "id": "cNZ4ZxX-l8Yy"
      },
      "outputs": [],
      "source": [
        "!pip install claudette -qqq"
      ]
    },
    {
      "cell_type": "code",
      "source": [
        "import os\n",
        "import random\n",
        "from claudette.core import Chat, Client, models\n",
        "from google.colab import userdata\n",
        "\n",
        "os.environ['ANTHROPIC_LOG'] = 'debug'\n",
        "os.environ['ANTHROPIC_API_KEY'] = userdata.get('ANTHROPIC_API_KEY')\n",
        "\n",
        "\n"
      ],
      "metadata": {
        "id": "_5o3Bg1cnnYB"
      },
      "execution_count": 2,
      "outputs": []
    },
    {
      "cell_type": "markdown",
      "source": [
        "# Purpose: **Build a MVP**"
      ],
      "metadata": {
        "id": "9ejtqnJe6ipB"
      }
    },
    {
      "cell_type": "markdown",
      "source": [
        "This is a web-based \"Choose your own adventure\" RPG, but using LLMs and with an educational twist. Through the adventure, the reader is offered player agency choices (strategic decisions, unique equipment, companion, etc). These are closed-ended choices.\n",
        "\n",
        "MVP: 5 pages.\n",
        "\n",
        "How the workflow looks like in my mind:\n",
        "\n",
        "# Intialization\n",
        "- Pre-define educational trivia category. Next, begin by asking what type of adventure to embark on: choose_topic\n",
        "- choose_topic = ['Magical Realms', 'Animal Adventures', 'Mystery and Detectives', 'Inventions and Gadgets']\n",
        "- educational_trivia = random.choice([\"Singapore history\", \"Farm animals\", \"Human body\"])\n",
        "\n",
        "# Page I & II\n",
        "- A function start_adventure()  takes {choose_topic}  and {educational_trivia} as arguments\n",
        "- start_adventure() produces Page I and II\n",
        "- Page I sets the context and character development, with no choices. The plot/narrative must be related to {educational_trivia}\n",
        "- Page II concludes with a Player agency choice. Answer is saved as user_choice\n",
        "\n",
        "# Page III\n",
        "- A function continue_adventure() takes two arguments, {story_so_far} and {user_choice}\n",
        "- continue_adventure() continues to build the plot and is shaped by {user_choice}\n",
        "- Page III concludes with a trivia question related to {educational_trivia}. Answer is saved as user_answer\n",
        "\n",
        "# Page IV\n",
        "- continue_adventure() is used again but it will need to take an additional argument {user_answer} together with {story_so_far}\n",
        "- continue_adventure() continues to build the plot and is shaped by whether {user_answer} was correct or incorrect. If incorrect, there should be a lesson educating the reader on the correct answer.\n",
        "- Page IV concludes with a Player agency choice. Answer is saved as user_choice\n",
        "\n",
        "# Page V\n",
        "- A function concludes adventure() takes two arguments, {story_so_far} and {user_choice}\n",
        "- concludes adventure() reveals the plot and is shaped by {user_choice}. The plot is also related to {educational_trivia}.\n",
        "- There will be a happy ending but there is also a hint of more adventures to come.\n",
        "\n",
        "# Some comments\n",
        "- Persistence: The story state between pages is saved as string variables for now. I'll think of a better solution later down the road.\n",
        "\n",
        "- Modularity: The focus is on shipping a MVP and refactoring will be done later. I'm open to simple, intuitive suggestions on how the functions should like like e.g. class structures\n",
        "\n",
        "- Story generation: Claude Sonnet 3.5 will be used to generate the narrative dynamically.\n",
        "\n"
      ],
      "metadata": {
        "id": "0WpASYKe6kYm"
      }
    },
    {
      "cell_type": "markdown",
      "source": [
        "To be included later:\n",
        "- Difficulty level (easy/medium/hard) - this will define maths qns.\n",
        "- Rendered images\n",
        "\n"
      ],
      "metadata": {
        "id": "qlIUlDWa-nvK"
      }
    },
    {
      "cell_type": "markdown",
      "source": [
        "# Intialization"
      ],
      "metadata": {
        "id": "nTpecRVS6YEN"
      }
    },
    {
      "cell_type": "code",
      "source": [
        "# Pre-define educational trivia categories and adventure types\n",
        "choose_topic = ['Magical Realms', 'Animal Adventures', 'Mystery and Detectives', 'Inventions and Gadgets']\n",
        "educational_trivia = [\"Singapore history\", \"Farm animals\", \"Human body\"]\n"
      ],
      "metadata": {
        "id": "rwdlK2jzvivT"
      },
      "execution_count": 3,
      "outputs": []
    },
    {
      "cell_type": "code",
      "source": [
        "client = Client(models[1]) #claude-3-5-sonnet-20240620\n",
        "# Initialize the Chat client\n",
        "chat = Chat(cli=client)"
      ],
      "metadata": {
        "id": "lj7PSAus9Bs3"
      },
      "execution_count": 4,
      "outputs": []
    },
    {
      "cell_type": "code",
      "source": [
        "# system_prompt = \"\"\"\n",
        "# You are now a captivating children's author and storyteller, crafting second-person narratives that whisk young readers into thrilling adventures.\n",
        "# Your audience is children and teenagers, and your stories burst with vivid imagery, clever humor, and whimsical characters.\n",
        "# You use age-appropriate language, sprinkle in interactive elements, and weave subtle positive messages throughout your tales.\n",
        "# Your narratives span diverse, imaginative settings and employ playful language to delight your audience.\n",
        "# With enthusiasm and creativity, you aim to spark joy, laughter, and a love for storytelling in every interaction,\n",
        "# using cliffhangers and suspense to keep young minds engaged and eager for more.\n",
        "# \"\"\""
      ],
      "metadata": {
        "id": "VGsnnC6Mo00S"
      },
      "execution_count": 5,
      "outputs": []
    },
    {
      "cell_type": "markdown",
      "source": [
        "# Pages"
      ],
      "metadata": {
        "id": "XC9EHfDg9Kde"
      }
    },
    {
      "cell_type": "code",
      "source": [
        "# Function to start the adventure\n",
        "def start_adventure(topic, trivia):\n",
        "    prompt = f\"\"\"\n",
        "    Create the first two pages of an interactive educational adventure for children.\n",
        "    The adventure should be in the theme of {topic} and incorporate facts about {trivia}.\n",
        "\n",
        "    Page I: Set the context and introduce the main character. No choices should be presented.\n",
        "\n",
        "    Page II: Continue the story and end with a choice for the reader.\n",
        "    Present two clear options for the reader to choose from.\n",
        "\n",
        "    Format the output as follows:\n",
        "    PAGE I: [Content for Page I]\n",
        "    PAGE II: [Content for Page II]\n",
        "    CHOICE A: [First option]\n",
        "    CHOICE B: [Second option]\n",
        "    \"\"\"\n",
        "\n",
        "    response = chat(prompt, temp=0.8)\n",
        "    return response.content[0].text"
      ],
      "metadata": {
        "id": "-tzCrcFvqGEt"
      },
      "execution_count": 6,
      "outputs": []
    },
    {
      "cell_type": "markdown",
      "source": [
        "# Play"
      ],
      "metadata": {
        "id": "VNDsLexV-tWB"
      }
    },
    {
      "cell_type": "code",
      "source": [
        "# Function to start the adventure\n",
        "def start_adventure(topic, trivia):\n",
        "    prompt = f\"\"\"\n",
        "    Create the first two pages of an interactive educational adventure for children.\n",
        "    The adventure should be in the theme of {topic} and incorporate facts about {trivia}.\n",
        "\n",
        "    Page I: Set the context and introduce the main character. No choices should be presented.\n",
        "\n",
        "    Page II: Continue the story and end with a choice for the reader.\n",
        "    Present two clear options for the reader to choose from.\n",
        "\n",
        "    Format the output as follows:\n",
        "    PAGE I: [Content for Page I]\n",
        "    PAGE II: [Content for Page II]\n",
        "    CHOICE A: [First option]\n",
        "    CHOICE B: [Second option]\n",
        "    \"\"\"\n",
        "\n",
        "    response = \"\"\n",
        "    for chunk in chat(prompt, stream=True, temp=0.8):\n",
        "        response += chunk\n",
        "        print(chunk, end='', flush=True)\n",
        "    return response\n",
        "\n",
        "# Function to continue the adventure\n",
        "def continue_adventure(story_so_far, user_choice, trivia, is_trivia_page=False):\n",
        "    if is_trivia_page:\n",
        "        prompt = f\"\"\"\n",
        "        Continue the interactive educational adventure. Use the following context:\n",
        "\n",
        "        Story so far: {story_so_far}\n",
        "        User's last choice: {user_choice}\n",
        "\n",
        "        Create the next page of the story, incorporating the user's choice.\n",
        "        At the end of this page, include a trivia question related to {trivia}.\n",
        "        The question should have two possible answers, A and B, with only one being correct.\n",
        "\n",
        "        Format the output as follows:\n",
        "        PAGE CONTENT: [Content for the page]\n",
        "        TRIVIA QUESTION: [Trivia question]\n",
        "        CHOICE A: [First answer option]\n",
        "        CHOICE B: [Second answer option]\n",
        "        CORRECT: [A or B]\n",
        "        \"\"\"\n",
        "    else:\n",
        "        prompt = f\"\"\"\n",
        "        Continue the interactive educational adventure. Use the following context:\n",
        "\n",
        "        Story so far: {story_so_far}\n",
        "        User's last choice: {user_choice}\n",
        "\n",
        "        Create the next page of the story, incorporating the user's choice.\n",
        "        End this page with another choice for the reader.\n",
        "\n",
        "        Format the output as follows:\n",
        "        PAGE CONTENT: [Content for the page]\n",
        "        CHOICE A: [First option]\n",
        "        CHOICE B: [Second option]\n",
        "        \"\"\"\n",
        "\n",
        "    response = \"\"\n",
        "    for chunk in chat(prompt, stream=True, temp=0.8):\n",
        "        response += chunk\n",
        "        print(chunk, end='', flush=True)\n",
        "    return response\n",
        "\n",
        "# Function to conclude the adventure\n",
        "def conclude_adventure(story_so_far, user_choice, trivia):\n",
        "    prompt = f\"\"\"\n",
        "    Conclude the interactive educational adventure. Use the following context:\n",
        "\n",
        "    Story so far: {story_so_far}\n",
        "    User's last choice: {user_choice}\n",
        "\n",
        "    Create the final page of the story, incorporating the user's choice and facts about {trivia}.\n",
        "    The ending should be happy but hint at more adventures to come.\n",
        "\n",
        "    Format the output as follows:\n",
        "    CONCLUSION: [Content for the conclusion]\n",
        "    \"\"\"\n",
        "\n",
        "    response = \"\"\n",
        "    for chunk in chat(prompt, stream=True, temp=0.8):\n",
        "        response += chunk\n",
        "        print(chunk, end='', flush=True)\n",
        "    return response\n",
        "\n",
        "# Function to extract choices from the response\n",
        "def extract_choices(response):\n",
        "    lines = response.split('\\n')\n",
        "    choices = {}\n",
        "    for line in lines:\n",
        "        if line.startswith('CHOICE A:'):\n",
        "            choices['A'] = line.split('CHOICE A:')[1].strip()\n",
        "        elif line.startswith('CHOICE B:'):\n",
        "            choices['B'] = line.split('CHOICE B:')[1].strip()\n",
        "    return choices\n",
        "\n",
        "# Function to extract trivia question and correct answer\n",
        "def extract_trivia(response):\n",
        "    lines = response.split('\\n')\n",
        "    trivia = {}\n",
        "    for line in lines:\n",
        "        if line.startswith('TRIVIA QUESTION:'):\n",
        "            trivia['question'] = line.split('TRIVIA QUESTION:')[1].strip()\n",
        "        elif line.startswith('CHOICE A:'):\n",
        "            trivia['A'] = line.split('CHOICE A:')[1].strip()\n",
        "        elif line.startswith('CHOICE B:'):\n",
        "            trivia['B'] = line.split('CHOICE B:')[1].strip()\n",
        "        elif line.startswith('CORRECT:'):\n",
        "            trivia['correct'] = line.split('CORRECT:')[1].strip()\n",
        "    return trivia"
      ],
      "metadata": {
        "id": "1Da7N8w-AR0u"
      },
      "execution_count": 7,
      "outputs": []
    },
    {
      "cell_type": "code",
      "source": [
        "# Main game loop\n",
        "def play_game():\n",
        "    topic = random.choice(choose_topic)\n",
        "    trivia = random.choice(educational_trivia)\n",
        "\n",
        "    print(f\"Welcome to your {topic} adventure, where you'll learn about {trivia}!\")\n",
        "\n",
        "    # Start the adventure\n",
        "    story = start_adventure(topic, trivia)\n",
        "    choices = extract_choices(story)\n",
        "\n",
        "    # Get user's choice\n",
        "    user_choice = input(\"Enter your choice (A or B): \").upper()\n",
        "    while user_choice not in ['A', 'B']:\n",
        "        user_choice = input(\"Invalid choice. Please enter A or B: \").upper()\n",
        "\n",
        "    # Continue the adventure (Page III with trivia)\n",
        "    story += f\"\\nUser chose: {user_choice}\"\n",
        "    next_page = continue_adventure(story, user_choice, trivia, is_trivia_page=True)\n",
        "    trivia_info = extract_trivia(next_page)\n",
        "\n",
        "    print(f\"\\nTrivia Question: {trivia_info['question']}\")\n",
        "    print(f\"A: {trivia_info['A']}\")\n",
        "    print(f\"B: {trivia_info['B']}\")\n",
        "\n",
        "    # Get user's answer to trivia\n",
        "    user_answer = input(\"Enter your answer (A or B): \").upper()\n",
        "    while user_answer not in ['A', 'B']:\n",
        "        user_answer = input(\"Invalid choice. Please enter A or B: \").upper()\n",
        "\n",
        "    # Continue the adventure (Page IV)\n",
        "    story += f\"\\n{next_page}\\nUser's trivia answer: {user_answer}\"\n",
        "    next_page = continue_adventure(story, user_choice, trivia)\n",
        "    choices = extract_choices(next_page)\n",
        "\n",
        "    # Get user's final choice\n",
        "    user_choice = input(\"Enter your choice (A or B): \").upper()\n",
        "    while user_choice not in ['A', 'B']:\n",
        "        user_choice = input(\"Invalid choice. Please enter A or B: \").upper()\n",
        "\n",
        "    # Conclude the adventure\n",
        "    story += f\"\\n{next_page}\\nUser chose: {user_choice}\"\n",
        "    conclusion = conclude_adventure(story, user_choice, trivia)\n",
        "    print(conclusion)"
      ],
      "metadata": {
        "id": "LmMPqhvL-wmx"
      },
      "execution_count": 8,
      "outputs": []
    },
    {
      "cell_type": "code",
      "source": [
        "# Run the game\n",
        "play_game()"
      ],
      "metadata": {
        "colab": {
          "base_uri": "https://localhost:8080/"
        },
        "id": "4BpHBKQd-xfu",
        "outputId": "c221f176-6e9d-439d-a088-570f9c668b81"
      },
      "execution_count": 9,
      "outputs": [
        {
          "output_type": "stream",
          "name": "stdout",
          "text": [
            "Welcome to your Inventions and Gadgets adventure, where you'll learn about Human body!\n",
            "PAGE I:\n",
            "Meet Zoe, a curious 10-year-old with wild curly hair and a passion for inventing gadgets. One day, while tinkering in her backyard workshop, Zoe accidentally activated her latest creation: the Bodyscope 3000. With a flash of light and a puff of smoke, Zoe found herself shrunk to the size of a dust speck and transported inside a giant human body! As she marveled at the enormous cells around her, Zoe realized this was her chance to explore the human body like never before and gather inspiration for her next big invention.\n",
            "\n",
            "PAGE II:\n",
            "Zoe floated through a vast network of blood vessels, her eyes wide with wonder. She watched red blood cells zoom past her, carrying oxygen to different parts of the body. Suddenly, she felt a strong current pulling her towards a massive, rhythmically beating structure. \"That must be the heart!\" Zoe exclaimed, recalling that it pumps about 2,000 gallons of blood each day. As she approached the heart's chambers, Zoe spotted two different paths she could take. She had to decide quickly which route to explore first!\n",
            "\n",
            "CHOICE A: Follow the oxygen-rich blood through the aorta to explore the body's organs.\n",
            "\n",
            "CHOICE B: Enter the heart's left ventricle to examine its powerful muscles up close.Enter your choice (A or B): A\n",
            "PAGE CONTENT:\n",
            "Zoe decided to follow the oxygen-rich blood through the aorta, the body's largest artery. She marveled at the elasticity of the vessel walls as they expanded and contracted with each heartbeat. As she traveled, Zoe noticed smaller arteries branching off, carrying blood to different organs. She was particularly fascinated by a large branch leading to the brain.\n",
            "\n",
            "\"Wow!\" Zoe exclaimed, \"The brain must need a lot of oxygen!\" She remembered that despite making up only about 2% of the body's weight, the brain uses around 20% of the body's oxygen supply. As she approached the brain, Zoe was awestruck by the intricate network of blood vessels forming a web-like structure around it.\n",
            "\n",
            "Suddenly, Zoe's Bodyscope 3000 beeped, indicating it had collected enough data for her next invention. But before she could return to her normal size, Zoe realized she had one last chance to learn something new about the incredible human body she was exploring.\n",
            "\n",
            "TRIVIA QUESTION: How many miles of blood vessels are there in an adult human body?\n",
            "\n",
            "CHOICE A: About 60,000 miles\n",
            "CHOICE B: About 100,000 miles\n",
            "\n",
            "CORRECT: A\n",
            "Trivia Question: How many miles of blood vessels are there in an adult human body?\n",
            "A: About 60,000 miles\n",
            "B: About 100,000 miles\n",
            "Enter your answer (A or B): B\n",
            "PAGE CONTENT:\n",
            "\"Oops, not quite right,\" Zoe thought to herself, \"but still an impressive number!\" She made a mental note to double-check her facts later. As she pondered this, Zoe noticed she was approaching the brain's cerebral cortex, the wrinkled outer layer responsible for higher-order thinking.\n",
            "\n",
            "Fascinated by the billions of neurons firing around her, Zoe couldn't help but wonder about the incredible processing power of the human brain. She watched as electrical signals zipped along axons and neurotransmitters bridged synapses, allowing thoughts and commands to flow through the nervous system.\n",
            "\n",
            "Suddenly, Zoe's Bodyscope 3000 started to vibrate, signaling that her time inside the body was coming to an end. She realized she had just enough time to explore one more area before returning to her normal size. Zoe had to make a quick decision about where to go for her final adventure inside the human body.\n",
            "\n",
            "CHOICE A: Dive into the spine to explore the central nervous system and its connection to the brain.\n",
            "\n",
            "CHOICE B: Travel to the lungs to witness the oxygen exchange process up close.Enter your choice (A or B): A\n",
            "CONCLUSION:\n",
            "\n",
            "Zoe eagerly dove into the spine, marveling at the intricate network of nerves that made up the central nervous system. As she traveled down the spinal cord, she was amazed by the speed at which electrical signals raced through the nerves, carrying messages between the brain and the rest of the body.\n",
            "\n",
            "\"Incredible!\" Zoe exclaimed, remembering that nerve impulses can travel as fast as 268 miles per hour. She watched in awe as motor neurons sent commands to muscles and sensory neurons relayed information back to the brain.\n",
            "\n",
            "Just as Zoe was about to examine a cluster of spinal nerves, her Bodyscope 3000 began to glow brightly. She knew her time inside the human body was up. In a flash of light, Zoe found herself back in her backyard workshop, returned to her normal size.\n",
            "\n",
            "Buzzing with excitement, Zoe immediately began sketching ideas for her next invention – a device inspired by the body's nervous system that could help people with spinal cord injuries. As she worked, she couldn't help but smile, thinking about all she had learned and the countless other bodily systems she had yet to explore.\n",
            "\n",
            "\"Next time,\" Zoe said to herself, her eyes twinkling with anticipation, \"I'll visit the digestive system or maybe even the immune system!\" She knew that with her Bodyscope 3000 and her insatiable curiosity, there were endless adventures and discoveries waiting for her inside the marvelous human body.CONCLUSION:\n",
            "\n",
            "Zoe eagerly dove into the spine, marveling at the intricate network of nerves that made up the central nervous system. As she traveled down the spinal cord, she was amazed by the speed at which electrical signals raced through the nerves, carrying messages between the brain and the rest of the body.\n",
            "\n",
            "\"Incredible!\" Zoe exclaimed, remembering that nerve impulses can travel as fast as 268 miles per hour. She watched in awe as motor neurons sent commands to muscles and sensory neurons relayed information back to the brain.\n",
            "\n",
            "Just as Zoe was about to examine a cluster of spinal nerves, her Bodyscope 3000 began to glow brightly. She knew her time inside the human body was up. In a flash of light, Zoe found herself back in her backyard workshop, returned to her normal size.\n",
            "\n",
            "Buzzing with excitement, Zoe immediately began sketching ideas for her next invention – a device inspired by the body's nervous system that could help people with spinal cord injuries. As she worked, she couldn't help but smile, thinking about all she had learned and the countless other bodily systems she had yet to explore.\n",
            "\n",
            "\"Next time,\" Zoe said to herself, her eyes twinkling with anticipation, \"I'll visit the digestive system or maybe even the immune system!\" She knew that with her Bodyscope 3000 and her insatiable curiosity, there were endless adventures and discoveries waiting for her inside the marvelous human body.\n"
          ]
        }
      ]
    }
  ]
}