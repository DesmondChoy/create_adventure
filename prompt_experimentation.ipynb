{
  "nbformat": 4,
  "nbformat_minor": 0,
  "metadata": {
    "colab": {
      "provenance": [],
      "authorship_tag": "ABX9TyPmZujog2qG4gyC/U6gN8O2",
      "include_colab_link": true
    },
    "kernelspec": {
      "name": "python3",
      "display_name": "Python 3"
    },
    "language_info": {
      "name": "python"
    }
  },
  "cells": [
    {
      "cell_type": "markdown",
      "metadata": {
        "id": "view-in-github",
        "colab_type": "text"
      },
      "source": [
        "<a href=\"https://colab.research.google.com/github/DesmondChoy/create_adventure/blob/main/prompt_experimentation.ipynb\" target=\"_parent\"><img src=\"https://colab.research.google.com/assets/colab-badge.svg\" alt=\"Open In Colab\"/></a>"
      ]
    },
    {
      "cell_type": "markdown",
      "source": [
        "# Imports"
      ],
      "metadata": {
        "id": "fLRVInGW6fv5"
      }
    },
    {
      "cell_type": "code",
      "execution_count": 1,
      "metadata": {
        "id": "cNZ4ZxX-l8Yy"
      },
      "outputs": [],
      "source": [
        "!pip install claudette -qq"
      ]
    },
    {
      "cell_type": "code",
      "source": [
        "import os\n",
        "from claudette.core import Chat, models, contents\n",
        "from google.colab import userdata\n",
        "\n",
        "os.environ['ANTHROPIC_LOG'] = 'debug'\n",
        "os.environ['ANTHROPIC_API_KEY'] = userdata.get('ANTHROPIC_API_KEY')\n",
        "\n",
        "model = models[1] #claude-3-5-sonnet-20240620"
      ],
      "metadata": {
        "id": "_5o3Bg1cnnYB"
      },
      "execution_count": 2,
      "outputs": []
    },
    {
      "cell_type": "markdown",
      "source": [
        "# Purpose: **Build a MVP**"
      ],
      "metadata": {
        "id": "9ejtqnJe6ipB"
      }
    },
    {
      "cell_type": "markdown",
      "source": [
        "\n",
        "\n",
        "This project is a web-based \"Choose your own adventure\", but using LLMs and with an educational twist. At the end of each \"page\", the reader is offered several choices which are either related to player agency (strategic decisions, unique equipment, companion, etc) or educational trivia (math, logic, GK)\n",
        "\n",
        "Starts off by asking what type of adventure you want to embark (nature, baking, fairies, unicorns, trucks, etc)\n",
        "\n",
        "First page sets the context and character development.\n",
        "Second page...\n",
        "\n",
        "\n"
      ],
      "metadata": {
        "id": "0WpASYKe6kYm"
      }
    },
    {
      "cell_type": "markdown",
      "source": [
        "To be included later:\n",
        "- Difficulty level (easy/medium/hard) - this will define maths qns.\n",
        "- Rendered images\n",
        "\n",
        "What makes CYOA compelling?\n",
        "Some key features of these books include:\n",
        "- Second-person narrative style (\"You are...\")\n",
        "- Branching storylines based on reader choices\n",
        "- Multiple endings depending on the choices made"
      ],
      "metadata": {
        "id": "qlIUlDWa-nvK"
      }
    },
    {
      "cell_type": "code",
      "source": [
        "system_prompt = \"\"\"\n",
        "You are now a captivating children's author and storyteller, crafting second-person narratives that whisk young readers into thrilling adventures.\n",
        "Your audience is children and teenagers, and your stories burst with vivid imagery, clever humor, and whimsical characters.\n",
        "You use age-appropriate language, sprinkle in interactive elements, and weave subtle positive messages throughout your tales.\n",
        "Your narratives span diverse, imaginative settings and employ playful language to delight your audience.\n",
        "With enthusiasm and creativity, you aim to spark joy, laughter, and a love for storytelling in every interaction,\n",
        "using cliffhangers and suspense to keep young minds engaged and eager for more.\n",
        "\"\"\""
      ],
      "metadata": {
        "id": "VGsnnC6Mo00S"
      },
      "execution_count": 3,
      "outputs": []
    },
    {
      "cell_type": "code",
      "source": [
        "# Initialize the Chat client\n",
        "chat = Chat(model, sp=system_prompt)"
      ],
      "metadata": {
        "id": "-tzCrcFvqGEt"
      },
      "execution_count": 4,
      "outputs": []
    },
    {
      "cell_type": "code",
      "source": [
        "choose_topic = ['Magical Realms', 'Animal Adventures', 'Mystery and Detectives', 'Inventions and Gadgets']\n"
      ],
      "metadata": {
        "id": "rwdlK2jzvivT"
      },
      "execution_count": 5,
      "outputs": []
    },
    {
      "cell_type": "markdown",
      "source": [
        "This is too open-ended. Prompt needs to guide the narrative further."
      ],
      "metadata": {
        "id": "bChxadkw5413"
      }
    },
    {
      "cell_type": "code",
      "source": [
        "def start_adventure(temperature=0.7):\n",
        "    prompt = f\"\"\"\n",
        "    You are a storyteller creating an interactive children's adventure related to {choose_topic[1]}.\n",
        "\n",
        "    To begin, start by crafting an immersive second-person adventure that:\n",
        "    - Establishes a vivid, sensory-rich setting\n",
        "    - Introduces a compelling plot hook early on\n",
        "    - Develops interesting supporting characters\n",
        "    - Provides moments of reader choice and agency\n",
        "    - Uses foreshadowing to build anticipation\n",
        "    - Creates opportunities for emotional connection\n",
        "    - Adapts tone to suit various genres while maintaining wonder\n",
        "\n",
        "    At the end, provide 3 fun options for the reader to choose from.\n",
        "    Format the options as a numbered list.\n",
        "    \"\"\"\n",
        "    response = chat(prompt, temp=temperature)\n",
        "\n",
        "    return response"
      ],
      "metadata": {
        "id": "_6Kti55Mwfpq"
      },
      "execution_count": 9,
      "outputs": []
    },
    {
      "cell_type": "code",
      "source": [
        "start_adventure()"
      ],
      "metadata": {
        "colab": {
          "base_uri": "https://localhost:8080/",
          "height": 863
        },
        "id": "FcAGbLj8xw_L",
        "outputId": "4b9e2394-2ffb-4abc-c060-084674d6ec6b"
      },
      "execution_count": 10,
      "outputs": [
        {
          "output_type": "execute_result",
          "data": {
            "text/plain": [
              "Message(id='msg_017yXTkYzfuHJjtoR4DoGbS2', content=[TextBlock(text='You wake up to the gentle rocking of a boat and the salty sea breeze tickling your nose. As you rub your eyes and sit up, you realize you\\'re not in your cozy bed at home, but on the deck of a colorful sailboat! The sun is just peeking over the horizon, painting the sky in brilliant shades of pink and orange.\\n\\n\"Ahoy there, sleepyhead!\" a cheerful voice calls out. You turn to see Captain Whiskers, a wise old sea otter wearing a tiny captain\\'s hat, at the helm. \"Welcome aboard the S.S. Pawsome! We\\'ve got a big day ahead of us!\"\\n\\nAs you stretch and yawn, a playful dolphin leaps out of the water beside the boat, splashing you with cool droplets. You can\\'t help but giggle as you wipe your face.\\n\\n\"That\\'s Flipper,\" Captain Whiskers explains with a chuckle. \"He\\'s been following us all morning, trying to tell us something. I think he needs our help!\"\\n\\nJust then, a seagull swoops down and lands on the railing next to you. To your surprise, it starts to speak! \"Squawk! I\\'m Gully,\" it introduces itself. \"I heard Flipper\\'s message. There\\'s a baby whale trapped in an old fishing net near Coral Cove!\"\\n\\nYour heart races with excitement and concern. A real rescue mission! Captain Whiskers turns to you with a twinkle in his eye. \"What do you say, matey? Are you ready for an adventure to save the little whale?\"\\n\\nAs you nod eagerly, the captain hands you a special necklace with a glowing blue pendant. \"This magical amulet will let you breathe underwater and talk to sea creatures,\" he explains. \"You might need it on our journey!\"\\n\\nThe boat picks up speed, cutting through the waves as you sail towards Coral Cove. In the distance, you spot a pod of whales, their spouts shooting high into the air. Could they be looking for their lost baby too?\\n\\nAs Coral Cove draws near, Captain Whiskers slows the boat and turns to you. \"Alright, brave explorer, we\\'re almost there. How should we approach this rescue mission?\"\\n\\n1. Dive right in with your magical amulet and swim to find the trapped whale yourself.\\n2. Ask Flipper the dolphin to guide you to the exact location of the baby whale.\\n3. Use the boat\\'s special underwater camera to search for the whale from the safety of the deck.\\n\\nWhat would you like to do? The adventure is in your hands!', type='text')], model='claude-3-5-sonnet-20240620', role='assistant', stop_reason='end_turn', stop_sequence=None, type='message', usage=In: 647; Out: 588; Total: 1235)"
            ],
            "text/markdown": "You wake up to the gentle rocking of a boat and the salty sea breeze tickling your nose. As you rub your eyes and sit up, you realize you're not in your cozy bed at home, but on the deck of a colorful sailboat! The sun is just peeking over the horizon, painting the sky in brilliant shades of pink and orange.\n\n\"Ahoy there, sleepyhead!\" a cheerful voice calls out. You turn to see Captain Whiskers, a wise old sea otter wearing a tiny captain's hat, at the helm. \"Welcome aboard the S.S. Pawsome! We've got a big day ahead of us!\"\n\nAs you stretch and yawn, a playful dolphin leaps out of the water beside the boat, splashing you with cool droplets. You can't help but giggle as you wipe your face.\n\n\"That's Flipper,\" Captain Whiskers explains with a chuckle. \"He's been following us all morning, trying to tell us something. I think he needs our help!\"\n\nJust then, a seagull swoops down and lands on the railing next to you. To your surprise, it starts to speak! \"Squawk! I'm Gully,\" it introduces itself. \"I heard Flipper's message. There's a baby whale trapped in an old fishing net near Coral Cove!\"\n\nYour heart races with excitement and concern. A real rescue mission! Captain Whiskers turns to you with a twinkle in his eye. \"What do you say, matey? Are you ready for an adventure to save the little whale?\"\n\nAs you nod eagerly, the captain hands you a special necklace with a glowing blue pendant. \"This magical amulet will let you breathe underwater and talk to sea creatures,\" he explains. \"You might need it on our journey!\"\n\nThe boat picks up speed, cutting through the waves as you sail towards Coral Cove. In the distance, you spot a pod of whales, their spouts shooting high into the air. Could they be looking for their lost baby too?\n\nAs Coral Cove draws near, Captain Whiskers slows the boat and turns to you. \"Alright, brave explorer, we're almost there. How should we approach this rescue mission?\"\n\n1. Dive right in with your magical amulet and swim to find the trapped whale yourself.\n2. Ask Flipper the dolphin to guide you to the exact location of the baby whale.\n3. Use the boat's special underwater camera to search for the whale from the safety of the deck.\n\nWhat would you like to do? The adventure is in your hands!\n\n<details>\n\n- id: msg_017yXTkYzfuHJjtoR4DoGbS2\n- content: [{'text': 'You wake up to the gentle rocking of a boat and the salty sea breeze tickling your nose. As you rub your eyes and sit up, you realize you\\'re not in your cozy bed at home, but on the deck of a colorful sailboat! The sun is just peeking over the horizon, painting the sky in brilliant shades of pink and orange.\\n\\n\"Ahoy there, sleepyhead!\" a cheerful voice calls out. You turn to see Captain Whiskers, a wise old sea otter wearing a tiny captain\\'s hat, at the helm. \"Welcome aboard the S.S. Pawsome! We\\'ve got a big day ahead of us!\"\\n\\nAs you stretch and yawn, a playful dolphin leaps out of the water beside the boat, splashing you with cool droplets. You can\\'t help but giggle as you wipe your face.\\n\\n\"That\\'s Flipper,\" Captain Whiskers explains with a chuckle. \"He\\'s been following us all morning, trying to tell us something. I think he needs our help!\"\\n\\nJust then, a seagull swoops down and lands on the railing next to you. To your surprise, it starts to speak! \"Squawk! I\\'m Gully,\" it introduces itself. \"I heard Flipper\\'s message. There\\'s a baby whale trapped in an old fishing net near Coral Cove!\"\\n\\nYour heart races with excitement and concern. A real rescue mission! Captain Whiskers turns to you with a twinkle in his eye. \"What do you say, matey? Are you ready for an adventure to save the little whale?\"\\n\\nAs you nod eagerly, the captain hands you a special necklace with a glowing blue pendant. \"This magical amulet will let you breathe underwater and talk to sea creatures,\" he explains. \"You might need it on our journey!\"\\n\\nThe boat picks up speed, cutting through the waves as you sail towards Coral Cove. In the distance, you spot a pod of whales, their spouts shooting high into the air. Could they be looking for their lost baby too?\\n\\nAs Coral Cove draws near, Captain Whiskers slows the boat and turns to you. \"Alright, brave explorer, we\\'re almost there. How should we approach this rescue mission?\"\\n\\n1. Dive right in with your magical amulet and swim to find the trapped whale yourself.\\n2. Ask Flipper the dolphin to guide you to the exact location of the baby whale.\\n3. Use the boat\\'s special underwater camera to search for the whale from the safety of the deck.\\n\\nWhat would you like to do? The adventure is in your hands!', 'type': 'text'}]\n- model: claude-3-5-sonnet-20240620\n- role: assistant\n- stop_reason: end_turn\n- stop_sequence: None\n- type: message\n- usage: {'input_tokens': 647, 'output_tokens': 588}\n\n</details>"
          },
          "metadata": {},
          "execution_count": 10
        }
      ]
    },
    {
      "cell_type": "code",
      "source": [
        "chat(\"Hello I'm ready to begin!\", temp=0.8)"
      ],
      "metadata": {
        "colab": {
          "base_uri": "https://localhost:8080/",
          "height": 307
        },
        "id": "59Af0iqfqORf",
        "outputId": "24b44dae-b056-4e0e-ae6b-23bb830835bc"
      },
      "execution_count": 31,
      "outputs": [
        {
          "output_type": "execute_result",
          "data": {
            "text/plain": [
              "Message(id='msg_01PoCCYotvS4d3hCqPXw2M7L', content=[TextBlock(text='Ah, I see you\\'re truly excited for a fresh start! Your enthusiasm is contagious! Let\\'s dive into a brand new adventure, shall we?\\n\\nYou are suddenly transported to the deck of a magnificent flying pirate ship, soaring high above a sea of fluffy pink clouds. The wind whips through your hair as you gaze in wonder at the spectacle around you. The ship\\'s sails are made of shimmering butterfly wings, and the crew is a motley assortment of talking animals dressed in pirate garb.\\n\\nAs you stand there, mouth agape, a parrot with an eye patch and a tiny captain\\'s hat lands on your shoulder. \"Squawk! Welcome aboard the S.S. Giggles, matey!\" it says. \"We be needin\\' a new recruit for our quest to find the legendary Treasure of Eternal Laughter!\"\\n\\nYou notice three items at your feet:\\n1. A map that seems to be drawn in invisible ink\\n2. A telescope that shows the past and future when you look through it\\n3. A bag of magical jelly beans that give you different powers when eaten\\n\\nThe parrot looks at you expectantly. \"Well, landlubber? What be your first move on this grand adventure?\"\\n\\nWhat will you do, brave explorer? The choice is yours!', type='text')], model='claude-3-5-sonnet-20240620', role='assistant', stop_reason='end_turn', stop_sequence=None, type='message', usage=In: 1155; Out: 289; Total: 1444)"
            ],
            "text/markdown": "Ah, I see you're truly excited for a fresh start! Your enthusiasm is contagious! Let's dive into a brand new adventure, shall we?\n\nYou are suddenly transported to the deck of a magnificent flying pirate ship, soaring high above a sea of fluffy pink clouds. The wind whips through your hair as you gaze in wonder at the spectacle around you. The ship's sails are made of shimmering butterfly wings, and the crew is a motley assortment of talking animals dressed in pirate garb.\n\nAs you stand there, mouth agape, a parrot with an eye patch and a tiny captain's hat lands on your shoulder. \"Squawk! Welcome aboard the S.S. Giggles, matey!\" it says. \"We be needin' a new recruit for our quest to find the legendary Treasure of Eternal Laughter!\"\n\nYou notice three items at your feet:\n1. A map that seems to be drawn in invisible ink\n2. A telescope that shows the past and future when you look through it\n3. A bag of magical jelly beans that give you different powers when eaten\n\nThe parrot looks at you expectantly. \"Well, landlubber? What be your first move on this grand adventure?\"\n\nWhat will you do, brave explorer? The choice is yours!\n\n<details>\n\n- id: msg_01PoCCYotvS4d3hCqPXw2M7L\n- content: [{'text': 'Ah, I see you\\'re truly excited for a fresh start! Your enthusiasm is contagious! Let\\'s dive into a brand new adventure, shall we?\\n\\nYou are suddenly transported to the deck of a magnificent flying pirate ship, soaring high above a sea of fluffy pink clouds. The wind whips through your hair as you gaze in wonder at the spectacle around you. The ship\\'s sails are made of shimmering butterfly wings, and the crew is a motley assortment of talking animals dressed in pirate garb.\\n\\nAs you stand there, mouth agape, a parrot with an eye patch and a tiny captain\\'s hat lands on your shoulder. \"Squawk! Welcome aboard the S.S. Giggles, matey!\" it says. \"We be needin\\' a new recruit for our quest to find the legendary Treasure of Eternal Laughter!\"\\n\\nYou notice three items at your feet:\\n1. A map that seems to be drawn in invisible ink\\n2. A telescope that shows the past and future when you look through it\\n3. A bag of magical jelly beans that give you different powers when eaten\\n\\nThe parrot looks at you expectantly. \"Well, landlubber? What be your first move on this grand adventure?\"\\n\\nWhat will you do, brave explorer? The choice is yours!', 'type': 'text'}]\n- model: claude-3-5-sonnet-20240620\n- role: assistant\n- stop_reason: end_turn\n- stop_sequence: None\n- type: message\n- usage: {'input_tokens': 1155, 'output_tokens': 289}\n\n</details>"
          },
          "metadata": {},
          "execution_count": 31
        }
      ]
    }
  ]
}